{
  "cells": [
    {
      "cell_type": "code",
      "execution_count": null,
      "metadata": {
        "collapsed": false
      },
      "outputs": [],
      "source": [
        "%matplotlib inline"
      ]
    },
    {
      "cell_type": "markdown",
      "metadata": {},
      "source": [
        "# napari image arithmetic widget\n\n[napari](https://github.com/napari/napari) is a fast, interactive,\nmulti-dimensional image viewer for python.  It uses Qt for the GUI, so it's easy\nto extend napari with small, composable widgets created with `magicgui`.  Here\nwe're going to build this simple image arithmetic widget with a few additional\nlines of code.\n\nFor napari-specific magicgui documentation, see the [napari\ndocs](https://napari.org/guides/magicgui.html)\n\n![napari image arithmetic widget](../../images/imagemath.gif){ width=80% }\n\n## outline\n\n**This example demonstrates how to:**\n\n1. Create a `magicgui` widget that can be used in another program (napari)\n\n2. Use an `Enum` to create a dropdown menu\n\n3. Connect some event listeners to create interactivity.\n\n## code\n\n*Code follows, with explanation below... You can also [get this example at\ngithub](https://github.com/pyapp-kit/magicgui/blob/main/docs/examples/napari/napari_image_arithmetic.py).*\n\n```python linenums=\"1\" hl_lines=\"25 38\"\nfrom enum import Enum\n\nimport napari\nimport numpy\nfrom napari.types import ImageData\n\nfrom magicgui import magicgui\n\n\nclass Operation(Enum):\n    # A set of valid arithmetic operations for image_arithmetic.\n    #\n    # To create nice dropdown menus with magicgui, it's best\n    # (but not required) to use Enums.  Here we make an Enum\n    # class for all of the image math operations we want to\n    # allow.\n    add = numpy.add\n    subtract = numpy.subtract\n    multiply = numpy.multiply\n    divide = numpy.divide\n\n\n# here's the magicgui!  We also use the additional\n# `call_button` option\n@magicgui(call_button=\"execute\")\ndef image_arithmetic(\n    layerA: ImageData, operation: Operation, layerB: ImageData\n) -> ImageData:\n    # Add, subtracts, multiplies, or divides to image layers.\n    return operation.value(layerA, layerB)\n\n\n# create a viewer and add a couple image layers\nviewer = napari.Viewer()\nviewer.add_image(numpy.random.rand(20, 20), name=\"Layer 1\")\nviewer.add_image(numpy.random.rand(20, 20), name=\"Layer 2\")\n\n# add our new magicgui widget to the viewer\nviewer.window.add_dock_widget(image_arithmetic)\n\n# keep the dropdown menus in the gui in sync with the layer model\nviewer.layers.events.inserted.connect(image_arithmetic.reset_choices)\nviewer.layers.events.removed.connect(image_arithmetic.reset_choices)\n\nnapari.run()\n```\n\n## walkthrough\n\nWe're going to go a little out of order so that the other code makes more sense.\nLet's start with the actual function we'd like to write to do some image arithmetic.\n\n### the function\n\nOur function takes two `numpy` arrays (in this case, from [Image layers](https://napari.org/howtos/layers/image.html)),\nand some mathematical operation\n(we'll restrict the options using an `enum.Enum`).\nWhen called, ourfunction calls the selected operation on the data.\n\n```python\ndef image_arithmetic(array1, operation, array2):\n    return operation.value(array1, array2)\n```\n\n#### type annotations\n\n`magicgui` works particularly well with [type annotations](https://docs.python.org/3/library/typing.html),\nand allows third-party libraries to register widgets and behavior for handling\ntheir custom types (using [`magicgui.type_map.register_type`][magicgui.type_map.register_type]).\n`napari` [provides support for `magicgui`](https://github.com/napari/napari/blob/main/napari/utils/_magicgui.py)\nby registering a dropdown menu whenever a function parameter is annotated as one\nof the basic napari [`Layer` types](https://napari.org/howtos/layers/index.html),\nor, in this case, `ImageData` indicates we just the `data` attribute of the layer.\nFurthermore, it recognizes when a function has a `napari.layers.Layer`\nor `LayerData` return type annotation, and will add the result to the viewer.\nSo we gain a *lot* by annotating the above function with the appropriate\n`napari` types.\n\n```python\nfrom napari.types import ImageData\n\n\ndef image_arithmetic(\n    layerA: ImageData, operation: Operation, layerB: ImageData\n) -> ImageData:\n    return operation.value(layerA, layerB)\n```\n\n### the magic part\n\nFinally, we decorate the function with `@magicgui` and tell it we'd like to\nhave a `call_button` that we can click to execute the function.\n\n```python hl_lines=\"1\"\n@magicgui(call_button=\"execute\")\ndef image_arithmetic(layerA: ImageData, operation: Operation, layerB: ImageData):\n    return operation.value(layerA, layerB)\n```\n\nThat's it!  The `image_arithmetic` function is now a\n[FunctionGui][magicgui.widgets.FunctionGui] that can be shown, or incorporated\ninto other GUIs (such as the napari GUI shown in this example)\n\n!!! note While [type hints](https://docs.python.org/3/library/typing.html)\n    aren't always required in `magicgui`, they are recommended ... and they\n    *are* required for certain things, like the `Operation(Enum)` [used here for\n    the dropdown](#create-dropdowns-with-enums) and the `napari.types.ImageData`\n    annotations that `napari` has registered with `magicgui`.\n\n### create dropdowns with Enums\n\nWe'd like the user to be able to select the operation (`add`, `subtract`,\n`multiply`, `divide`) using a dropdown menu. [`enum.Enum`][enum.Enum] offers a convenient\nway to restrict values to a strict set of options, while providing `name: value`\npairs for each of the options. Here, the value for each choice is the actual\nfunction we would like to have called when that option is selected.\n\n```python\nclass Operation(enum.Enum):\n    add = numpy.add\n    subtract = numpy.subtract\n    multiply = numpy.multiply\n    divide = numpy.divide\n```\n\n### add it to napari\n\nWhen we decorated the `image_arithmetic` function above, it became a\n[FunctionGui][magicgui.widgets.FunctionGui].  Napari recognizes this type, so we\ncan simply add it to the napari viewer as follows:\n\n```python\nviewer.window.add_dock_widget(image_arithmetic)\n```\n\n### connect event listeners for interactivity\n\nWhat fun is a GUI without some interactivity?  Let's make stuff happen.\n\nWe connect the `image_arithmetic.reset_choices` function to the\n`viewer.layers.events.inserted/removed` event from `napari`, to make sure that\nthe dropdown menus stay in sync if a layer gets added or removed from the napari\nwindow:\n\n```python\nviewer.layers.events.inserted.connect(image_arithmetic.reset_choices)\nviewer.layers.events.removed.connect(image_arithmetic.reset_choices)\n```\n\n!!!tip\n    An additional offering from `magicgui` here is that the decorated\n    function also acquires a new attribute \"`called`\" that can be connected to\n    callback functions of your choice.  Then, whenever the gui widget *or the\n    original function* are called, the result will be passed to your callback\n    function:\n\n```python\n@image_arithmetic.called.connect\ndef print_mean(value):\n    # Callback function that accepts an event\n    # the value attribute has the result of calling the function\n    print(np.mean(value))\n```\n\n```\n>>> image_arithmetic()\n1.0060037881040373\n```\n\n## Code\n\nHere's the full code example again.\n"
      ]
    },
    {
      "cell_type": "code",
      "execution_count": null,
      "metadata": {
        "collapsed": false
      },
      "outputs": [],
      "source": [
        "from enum import Enum\n\nimport napari\nimport numpy\nfrom napari.types import ImageData\n\nfrom magicgui import magicgui\n\n\nclass Operation(Enum):\n    # A set of valid arithmetic operations for image_arithmetic.\n    #\n    # To create nice dropdown menus with magicgui, it's best\n    # (but not required) to use Enums.  Here we make an Enum\n    # class for all of the image math operations we want to\n    # allow.\n    add = numpy.add\n    subtract = numpy.subtract\n    multiply = numpy.multiply\n    divide = numpy.divide\n\n\n# here's the magicgui!  We also use the additional\n# `call_button` option\n@magicgui(call_button=\"execute\")\ndef image_arithmetic(\n    layerA: ImageData, operation: Operation, layerB: ImageData\n) -> ImageData:\n    # Add, subtracts, multiplies, or divides to image layers.\n    return operation.value(layerA, layerB)\n\n\n# create a viewer and add a couple image layers\nviewer = napari.Viewer()\nviewer.add_image(numpy.random.rand(20, 20), name=\"Layer 1\")\nviewer.add_image(numpy.random.rand(20, 20), name=\"Layer 2\")\n\n# add our new magicgui widget to the viewer\nviewer.window.add_dock_widget(image_arithmetic)\n\n# keep the dropdown menus in the gui in sync with the layer model\nviewer.layers.events.inserted.connect(image_arithmetic.reset_choices)\nviewer.layers.events.removed.connect(image_arithmetic.reset_choices)\n\nnapari.run()"
      ]
    }
  ],
  "metadata": {
    "kernelspec": {
      "display_name": "Python 3",
      "language": "python",
      "name": "python3"
    },
    "language_info": {
      "codemirror_mode": {
        "name": "ipython",
        "version": 3
      },
      "file_extension": ".py",
      "mimetype": "text/x-python",
      "name": "python",
      "nbconvert_exporter": "python",
      "pygments_lexer": "ipython3",
      "version": "3.13.1"
    }
  },
  "nbformat": 4,
  "nbformat_minor": 0
}