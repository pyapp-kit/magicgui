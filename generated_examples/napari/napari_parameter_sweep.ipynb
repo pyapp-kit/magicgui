{
  "cells": [
    {
      "cell_type": "code",
      "execution_count": null,
      "metadata": {
        "collapsed": false
      },
      "outputs": [],
      "source": [
        "%matplotlib inline"
      ]
    },
    {
      "cell_type": "markdown",
      "metadata": {},
      "source": [
        "# napari parameter sweeps\n\n[napari](https://github.com/napari/napari) is a fast, interactive,\nmulti-dimensional image viewer for python.  It uses Qt for the GUI, so it's easy\nto extend napari with small, composable widgets created with `magicgui`.  Here,\nwe demonstrate how to build a interactive widget that lets you immediately see\nthe effect of changing one of the parameters of your function.\n\nFor napari-specific magicgui documentation, see the\n[napari docs](https://napari.org/guides/magicgui.html)\n\n![napari parameter sweep widget](../../images/param_sweep.gif){ width=80% }\n\n*See also:* Some of this tutorial overlaps with topics covered in the\n[napari image arithmetic example](napari_img_math.py).\n\n## outline\n\n**This example demonstrates how to:**\n\n1. Create a `magicgui` widget that can be used in another\nprogram (`napari`)\n\n2. Automatically call our function when a parameter changes\n\n3. Provide `magicgui` with a custom widget for a specific\nargument\n\n4. Use the `choices` option to create a dropdown\n\n5. Connect some event listeners to create interactivity.\n\n## code\n\n*Code follows, with explanation below... You can also [get this example at\ngithub](https://github.com/pyapp-kit/magicgui/blob/main/docs/examples/napari/napari_param_sweep.py).*\n\n```python linenums=\"1\" hl_lines=\"14-19 31\"\nimport napari\nimport skimage.data\nimport skimage.filters\nfrom napari.types import ImageData\n\nfrom magicgui import magicgui\n\n\n# turn the gaussian blur function into a magicgui\n# - 'auto_call' tells magicgui to call the function when a parameter changes\n# - we use 'widget_type' to override the default \"float\" widget on sigma,\n#   and provide a maximum valid value.\n# - we contstrain the possible choices for 'mode'\n@magicgui(\n    auto_call=True,\n    sigma={\"widget_type\": \"FloatSlider\", \"max\": 6},\n    mode={\"choices\": [\"reflect\", \"constant\", \"nearest\", \"mirror\", \"wrap\"]},\n    layout=\"horizontal\",\n)\ndef gaussian_blur(layer: ImageData, sigma: float = 1.0, mode=\"nearest\") -> ImageData:\n    # Apply a gaussian blur to 'layer'.\n    if layer is not None:\n        return skimage.filters.gaussian(layer, sigma=sigma, mode=mode)\n\n# create a viewer and add some images\nviewer = napari.Viewer()\nviewer.add_image(skimage.data.astronaut().mean(-1), name=\"astronaut\")\nviewer.add_image(skimage.data.grass().astype(\"float\"), name=\"grass\")\n\n# Add it to the napari viewer\nviewer.window.add_dock_widget(gaussian_blur)\n# update the layer dropdown menu when the layer list changes\nviewer.layers.events.changed.connect(gaussian_blur.reset_choices)\n\nnapari.run()\n```\n\n## walkthrough\n\nWe're going to go a little out of order so that the other code makes more sense.\nLet's start with the actual function we'd like to write to apply a gaussian\nfilter to an image.\n\n### the function\n\nOur function is a very thin wrapper around\n[`skimage.filters.gaussian`](https://scikit-image.org/docs/dev/api/skimage.filters.html#skimage.filters.gaussian).\nIt takes a `napari` [Image\nlayer](https://napari.org/howtos/layers/image.html), a `sigma` to control\nthe blur radius, and a `mode` that determines how edges are handled.\n\n```python\ndef gaussian_blur(\n    layer: Image, sigma: float = 1, mode=\"nearest\"\n) -> Image:\n    return filters.gaussian(layer.data, sigma=sigma, mode=mode)\n```\n\nThe reasons we are wrapping it here are:\n\n1. `filters.gaussian` accepts a `numpy` array,\n   but we want to work with `napari` layers\n   that store the data in a `layer.data` attribute. So we need an adapter.\n2. We'd like to add some [type annotations](../../type_map.md) to the\n   signature that were not provided by `filters.gaussian`\n\n#### type annotations\n\nAs described in the [image arithmetic example](napari_img_math.py), we take\nadvantage of napari's built in support for `magicgui` by annotating our function\nparameters and return value as napari `Layer` types.  `napari` will then tell\n`magicgui` what to do with them, creating a dropdown with a list of current\nlayers for our `layer` parameter, and automatically adding the result of our\nfunction to the viewer when called.\n\nFor documentation on napari types with magicgui, see the\n[napari docs](https://napari.org/guides/magicgui.html)\n\n### the magic part\n\nFinally, we decorate the function with `@magicgui` and provide some options.\n\n```python\n@magicgui(\n    auto_call=True,\n    sigma={\"widget_type\": \"FloatSlider\", \"max\": 6},\n    mode={\"choices\": [\"reflect\", \"constant\", \"nearest\", \"mirror\", \"wrap\"]},\n)\ndef gaussian_blur(\n  layer: ImageData, sigma: float = 1.0, mode=\"nearest\"\n) -> ImageData:\n    # Apply a gaussian blur to ``layer``.\n    if layer is not None:\n        return skimage.filters.gaussian(layer, sigma=sigma, mode=mode)\n```\n\n- `auto_call=True` makes it so that the `gaussian_blur` function will be called\n  whenever one of the parameters changes (with the current parameters set in the\n  GUI).\n- We then provide keyword arguments to modify the look & behavior of `sigma`\n  and `mode`:\n\n    - `\"widget_type\": \"FloatSlider\"` tells `magicgui` not to use the standard\n        (`float`) widget for the `sigma` widget, but rather to use a slider widget.\n    - we then set an upper limit on the slider values for `sigma`.\n\n- finally, we specify valid `choices` for the `mode` argument.  This turns that\n  parameter into a categorical/dropdown type widget, and sets the options.\n\n### connecting events\n\nAs described in the [Events documentation](../../events.md), we can\nalso connect any callback to the `gaussian_blur.called` signal that will receive\nthe result of our decorated function anytime it is called.\n\n```python\ndef do_something_with_result(result):\n    ...\n\ngaussian_blur.called.connect(do_something_with_result)\n```\n\n## Code\n\nHere's the full code example again.\n"
      ]
    },
    {
      "cell_type": "code",
      "execution_count": null,
      "metadata": {
        "collapsed": false
      },
      "outputs": [],
      "source": [
        "import napari\nimport skimage.data\nimport skimage.filters\nfrom napari.types import ImageData\n\nfrom magicgui import magicgui\n\n\n# turn the gaussian blur function into a magicgui\n# - 'auto_call' tells magicgui to call the function when a parameter changes\n# - we use 'widget_type' to override the default \"float\" widget on sigma,\n#   and provide a maximum valid value.\n# - we contstrain the possible choices for 'mode'\n@magicgui(\n    auto_call=True,\n    sigma={\"widget_type\": \"FloatSlider\", \"max\": 6},\n    mode={\"choices\": [\"reflect\", \"constant\", \"nearest\", \"mirror\", \"wrap\"]},\n    layout=\"horizontal\",\n)\ndef gaussian_blur(layer: ImageData, sigma: float = 1.0, mode=\"nearest\") -> ImageData:\n    # Apply a gaussian blur to 'layer'.\n    if layer is not None:\n        return skimage.filters.gaussian(layer, sigma=sigma, mode=mode)\n\n\n# create a viewer and add some images\nviewer = napari.Viewer()\nviewer.add_image(skimage.data.astronaut().mean(-1), name=\"astronaut\")\nviewer.add_image(skimage.data.grass().astype(\"float\"), name=\"grass\")\n\n# Add it to the napari viewer\nviewer.window.add_dock_widget(gaussian_blur)\n# update the layer dropdown menu when the layer list changes\nviewer.layers.events.changed.connect(gaussian_blur.reset_choices)\n\nnapari.run()"
      ]
    }
  ],
  "metadata": {
    "kernelspec": {
      "display_name": "Python 3",
      "language": "python",
      "name": "python3"
    },
    "language_info": {
      "codemirror_mode": {
        "name": "ipython",
        "version": 3
      },
      "file_extension": ".py",
      "mimetype": "text/x-python",
      "name": "python",
      "nbconvert_exporter": "python",
      "pygments_lexer": "ipython3",
      "version": "3.12.4"
    }
  },
  "nbformat": 4,
  "nbformat_minor": 0
}