{
  "cells": [
    {
      "cell_type": "code",
      "execution_count": null,
      "metadata": {
        "collapsed": false
      },
      "outputs": [],
      "source": [
        "%matplotlib inline"
      ]
    },
    {
      "cell_type": "markdown",
      "metadata": {},
      "source": [
        "# Image widget\n\nExample of creating an Image Widget from a file.\n\n(This requires pillow, or that magicgui was installed as ``magicgui[image]``)\n"
      ]
    },
    {
      "cell_type": "code",
      "execution_count": null,
      "metadata": {
        "collapsed": false
      },
      "outputs": [],
      "source": [
        "from pathlib import Path\n\nfrom magicgui.widgets import Image\n\ntry:\n    test_jpg = Path(__file__).parent.parent.parent / \"images\" / \"_test.jpg\"\nexcept NameError:  # hack to support mkdocs-gallery build, which doesn't define __file__\n    test_jpg = \"../../images/_test.jpg\"\n\nimage = Image(value=test_jpg)\nimage.scale_widget_to_image_size()\nimage.show(run=True)"
      ]
    }
  ],
  "metadata": {
    "kernelspec": {
      "display_name": "Python 3",
      "language": "python",
      "name": "python3"
    },
    "language_info": {
      "codemirror_mode": {
        "name": "ipython",
        "version": 3
      },
      "file_extension": ".py",
      "mimetype": "text/x-python",
      "name": "python",
      "nbconvert_exporter": "python",
      "pygments_lexer": "ipython3",
      "version": "3.13.5"
    }
  },
  "nbformat": 4,
  "nbformat_minor": 0
}