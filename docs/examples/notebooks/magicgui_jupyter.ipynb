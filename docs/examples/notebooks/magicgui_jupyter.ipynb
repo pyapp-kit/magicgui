{
 "cells": [
  {
   "cell_type": "code",
   "execution_count": 2,
   "metadata": {},
   "outputs": [
    {
     "data": {
      "application/vnd.jupyter.widget-view+json": {
       "model_id": "1df96bcb5361429faddb252e3acfa608",
       "version_major": 2,
       "version_minor": 0
      },
      "text/plain": [
       "VBox(children=(HBox(children=(Label(value='aoi', layout=Layout(min_width='40px')), FloatText(value=1.0, step=1…"
      ]
     },
     "metadata": {},
     "output_type": "display_data"
    }
   ],
   "source": [
    "import math\n",
    "from enum import Enum\n",
    "\n",
    "from magicgui import magicgui, use_app\n",
    "use_app(\"ipynb\")\n",
    "\n",
    "class Medium(Enum):\n",
    "    \"\"\"Enum for various media and their refractive indices.\"\"\"\n",
    "\n",
    "    Glass = 1.520\n",
    "    Oil = 1.515\n",
    "    Water = 1.333\n",
    "    Air = 1.0003\n",
    "\n",
    "\n",
    "@magicgui(\n",
    "    call_button=\"calculate\", result_widget=True, layout='vertical', auto_call=True\n",
    ")\n",
    "def snells_law(aoi=1.0, n1=Medium.Glass, n2=Medium.Water, degrees=True):\n",
    "    \"\"\"Calculate the angle of refraction given two media and an AOI.\"\"\"\n",
    "    if degrees:\n",
    "        aoi = math.radians(aoi)\n",
    "    try:\n",
    "        n1 = n1.value\n",
    "        n2 = n2.value\n",
    "        result = math.asin(n1 * math.sin(aoi) / n2)\n",
    "        return round(math.degrees(result) if degrees else result, 2)\n",
    "    except ValueError:  # math domain error\n",
    "        return \"TIR!\"\n",
    "\n",
    "\n",
    "snells_law"
   ]
  }
 ],
 "metadata": {
  "kernelspec": {
   "display_name": "Python 3",
   "language": "python",
   "name": "python3"
  },
  "language_info": {
   "codemirror_mode": {
    "name": "ipython",
    "version": 3
   },
   "file_extension": ".py",
   "mimetype": "text/x-python",
   "name": "python",
   "nbconvert_exporter": "python",
   "pygments_lexer": "ipython3",
   "version": "3.8.6"
  }
 },
 "nbformat": 4,
 "nbformat_minor": 4
}
